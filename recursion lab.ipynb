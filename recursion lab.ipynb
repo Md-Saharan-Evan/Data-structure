{
 "cells": [
  {
   "cell_type": "code",
   "execution_count": 30,
   "id": "16c80285",
   "metadata": {},
   "outputs": [
    {
     "name": "stdout",
     "output_type": "stream",
     "text": [
      "The factorial of 7 is 5040\n"
     ]
    }
   ],
   "source": [
    "\n",
    "\n",
    "def factorial(n):\n",
    "   if n == 1:\n",
    "       return n\n",
    "   else:\n",
    "       return n*factorial(n-1)\n",
    "\n",
    "num = 7\n",
    "\n",
    "\n",
    "if num < 0:\n",
    "   print(\"Sorry, factorial does not exist for negative numbers\")\n",
    "elif num == 0:\n",
    "   print(\"The factorial of 0 is 1\")\n",
    "else:\n",
    "   print(\"The factorial of\", num, \"is\", recur_factorial(num))"
   ]
  },
  {
   "cell_type": "code",
   "execution_count": 34,
   "id": "079099d5",
   "metadata": {},
   "outputs": [
    {
     "name": "stdout",
     "output_type": "stream",
     "text": [
      "5\n"
     ]
    }
   ],
   "source": [
    "def solve(n):\n",
    "   if n <= 2:\n",
    "      return n - 1\n",
    "   else:\n",
    "      return solve(n - 1) + solve(n - 2)\n",
    "\n",
    "n = 6\n",
    "print(solve(n))"
   ]
  },
  {
   "cell_type": "code",
   "execution_count": 17,
   "id": "3858216f",
   "metadata": {},
   "outputs": [
    {
     "name": "stdout",
     "output_type": "stream",
     "text": [
      "1\n",
      "2\n",
      "3\n",
      "4\n",
      "5\n"
     ]
    }
   ],
   "source": [
    "def printArr(n,idx):\n",
    "    if idx==len(n):\n",
    "        return \n",
    "    else:\n",
    "        print(n[idx])\n",
    "        printArr(n,idx+1) \n",
    "n=[1,2,3,4,5]\n",
    "printArr(n,0)"
   ]
  },
  {
   "cell_type": "code",
   "execution_count": 15,
   "id": "719f9fae",
   "metadata": {},
   "outputs": [
    {
     "name": "stdout",
     "output_type": "stream",
     "text": [
      "1000\n"
     ]
    }
   ],
   "source": [
    "def binary( decimal_number ):\n",
    "    if decimal_number == 0:\n",
    "        return 0\n",
    "    else:\n",
    "        return (decimal_number % 2 + 10 *binary(int(decimal_number // 2)))\n",
    " \n",
    "\n",
    "decimal_number = 8\n",
    "\n",
    "print(binary(decimal_number))"
   ]
  },
  {
   "cell_type": "code",
   "execution_count": 36,
   "id": "31cfb87d",
   "metadata": {},
   "outputs": [
    {
     "name": "stdout",
     "output_type": "stream",
     "text": [
      "Given linked list\n",
      "85 15 4 20 \n",
      "Reversed Linked list\n",
      "20 4 15 85 "
     ]
    }
   ],
   "source": [
    "import math\n",
    "  \n",
    "\n",
    "class Node: \n",
    "    def __init__(self, data): \n",
    "        self.data = data \n",
    "        self.next = None\n",
    "      \n",
    "def LinkedList():\n",
    "    head = None\n",
    "          \n",
    "\n",
    "def reverse(node):\n",
    "    if (node == None):\n",
    "        return node\n",
    "          \n",
    "    if (node.next == None):\n",
    "        return node\n",
    "          \n",
    "    node1 = reverse(node.next)\n",
    "    node.next.next = node\n",
    "    node.next = None\n",
    "    return node1\n",
    "  \n",
    "\n",
    "def printList():\n",
    "    temp = head\n",
    "    while (temp != None) :\n",
    "        print(temp.data, end = \" \")\n",
    "        temp = temp.next\n",
    "          \n",
    "def push(head_ref, new_data):\n",
    "    new_node = Node(new_data)\n",
    "    new_node.data = new_data\n",
    "    new_node.next = head_ref\n",
    "    head_ref = new_node\n",
    "    return head_ref\n",
    "  \n",
    "\n",
    "if __name__=='__main__': \n",
    "      \n",
    "    \n",
    "    head = LinkedList()\n",
    "    head = push(head, 20)\n",
    "    head = push(head, 4)\n",
    "    head = push(head, 15)\n",
    "    head = push(head, 85)\n",
    "  \n",
    "    print(\"Given linked list\")\n",
    "    printList()\n",
    "  \n",
    "    head = reverse(head)\n",
    "  \n",
    "    print(\"\\nReversed Linked list\")\n",
    "    printList()"
   ]
  },
  {
   "cell_type": "code",
   "execution_count": 24,
   "id": "45653472",
   "metadata": {},
   "outputs": [
    {
     "name": "stdout",
     "output_type": "stream",
     "text": [
      "1 \n",
      "2 1 \n",
      "3 2 1 \n",
      "4 3 2 1 \n",
      "5 4 3 2 1 \n"
     ]
    }
   ],
   "source": [
    "def printn(num):\n",
    "       \n",
    "    if (num == 0):\n",
    "        return\n",
    "    print(num, end = \" \")\n",
    " \n",
    "    \n",
    "    printn(num - 1)\n",
    " \n",
    "\n",
    "def pattern(n, i):\n",
    "     \n",
    "    \n",
    "    if (n == 0):\n",
    "        return\n",
    "    printn(i)\n",
    "    print(\"\\n\", end = \"\")\n",
    "     \n",
    "    \n",
    "    pattern(n - 1, i + 1)\n",
    " \n",
    "\n",
    "if __name__ == '__main__':\n",
    "    n = 5\n",
    "    pattern(n, 1)"
   ]
  },
  {
   "cell_type": "code",
   "execution_count": 26,
   "id": "8da52a9d",
   "metadata": {},
   "outputs": [
    {
     "name": "stdout",
     "output_type": "stream",
     "text": [
      "        1 \n",
      "      2 1 \n",
      "    3 2 1 \n",
      "  4 3 2 1 \n",
      "5 4 3 2 1 \n"
     ]
    }
   ],
   "source": [
    "\n",
    "def print_space(space):     \n",
    "    if (space == 0):\n",
    "        return;    \n",
    "    print(\" \", end=\" \");  \n",
    "    print_space(space - 1);\n",
    " \n",
    "def print_asterisk(asterisk):\n",
    "     \n",
    "   \n",
    "    if (asterisk == 0):\n",
    "        return;\n",
    "     \n",
    "    print(asterisk, end =\" \");\n",
    " \n",
    "    \n",
    "    print_asterisk(asterisk - 1);\n",
    "\n",
    "def pattern(n, num):\n",
    "     \n",
    "    if (n == 0):\n",
    "        return;\n",
    "     \n",
    "    print_space(n - 1);\n",
    "    print_asterisk(num - n + 1);\n",
    "    print();\n",
    "\n",
    "    pattern(n - 1, num);\n",
    " \n",
    "\n",
    "if __name__ == '__main__':\n",
    "    n = 5;\n",
    "    pattern(n, n);"
   ]
  },
  {
   "cell_type": "code",
   "execution_count": 29,
   "id": "fd113e71",
   "metadata": {},
   "outputs": [
    {
     "name": "stdout",
     "output_type": "stream",
     "text": [
      "13\n"
     ]
    }
   ],
   "source": [
    "def hogbuilder(n):\n",
    "    if n==1:\n",
    "        return 8\n",
    "    else:\n",
    "        return 5+hogbuilder(n-1)\n",
    " \n",
    "\n",
    "n = 2\n",
    "print(hogbuilder(n))"
   ]
  },
  {
   "cell_type": "code",
   "execution_count": 18,
   "id": "cd055832",
   "metadata": {},
   "outputs": [
    {
     "name": "stdout",
     "output_type": "stream",
     "text": [
      "1. Investment: 25000; Profit: 0.0 \n",
      "2. Investment: 100000; Profit: 3375.0 \n",
      "3. Investment: 250000; Profit: 15375.0 \n",
      "4. Investment: 350000; Profit: 23375.0 \n"
     ]
    }
   ],
   "source": [
    "#last problem\n",
    "import sys\n",
    "sys.setrecursionlimit(50000)\n",
    "class FinalQ:\n",
    "    def print(self, array, idx):\n",
    "        if(idx < len(array)):\n",
    "            profit = self.calcProfit(array[idx])\n",
    "            print(f\"{str(idx+1)}. Investment: {array[idx]}; Profit: {profit} \")\n",
    "            self.print(array, idx+1)\n",
    "\n",
    "    def calcProfit(self, investment):\n",
    "        if investment <= 25000:\n",
    "            return 0.0\n",
    "        elif investment > 25000 and investment <= 100000:\n",
    "            return 4.5 + self.calcProfit(investment-100)\n",
    "        elif investment > 100000:\n",
    "            return 8.0 + self.calcProfit(investment-100)\n",
    "        else:\n",
    "            return 0\n",
    "\n",
    "\n",
    "array = [25000, 100000, 250000, 350000]\n",
    "f = FinalQ()\n",
    "f.print(array, 0)"
   ]
  },
  {
   "cell_type": "code",
   "execution_count": null,
   "id": "16ad5703",
   "metadata": {},
   "outputs": [],
   "source": []
  }
 ],
 "metadata": {
  "kernelspec": {
   "display_name": "Python 3 (ipykernel)",
   "language": "python",
   "name": "python3"
  },
  "language_info": {
   "codemirror_mode": {
    "name": "ipython",
    "version": 3
   },
   "file_extension": ".py",
   "mimetype": "text/x-python",
   "name": "python",
   "nbconvert_exporter": "python",
   "pygments_lexer": "ipython3",
   "version": "3.9.7"
  }
 },
 "nbformat": 4,
 "nbformat_minor": 5
}
